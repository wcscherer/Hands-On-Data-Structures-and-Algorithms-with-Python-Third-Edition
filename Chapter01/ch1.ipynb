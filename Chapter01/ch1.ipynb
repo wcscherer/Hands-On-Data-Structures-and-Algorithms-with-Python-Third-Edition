{
 "cells": [
  {
   "cell_type": "code",
   "execution_count": 7,
   "metadata": {},
   "outputs": [
    {
     "name": "stdout",
     "output_type": "stream",
     "text": [
      "{'a': 1, 'g': 2, 'b': 3, 'f': 15}\n"
     ]
    }
   ],
   "source": [
    "a = {'a':1, 'g':2, 'b':3, 'f':15}\n",
    "print(a)"
   ]
  },
  {
   "cell_type": "code",
   "execution_count": 12,
   "metadata": {},
   "outputs": [
    {
     "name": "stdout",
     "output_type": "stream",
     "text": [
      "Test ordered dict:\n",
      "{'a': 1, 'g': 2, 'b': 3, 'f': 15}\n",
      "OrderedDict([('a', 1), ('g', 2), ('b', 3), ('f', 15)])\n",
      "Test UserList:\n",
      "[1, 2, 3]\n",
      "[0, 1, 2, 3]\n",
      "Test UserString:\n",
      "abc\n",
      "zabc\n"
     ]
    }
   ],
   "source": [
    "from collections import OrderedDict, UserList, UserString\n",
    "\n",
    "print('Test ordered dict:')\n",
    "print(a)\n",
    "print(OrderedDict(a))\n",
    "\n",
    "print('Test UserList:')\n",
    "class MyList(UserList):\n",
    "    def __init__(self, data=None):\n",
    "        super().__init__()\n",
    "        if data:\n",
    "            self.data = data\n",
    "    \n",
    "    # append to the beginning of the list\n",
    "    def append(self, item):\n",
    "        new_list = [item]\n",
    "        self.data = new_list + self.data\n",
    "        return self.data\n",
    "\n",
    "myList = MyList([1,2,3])\n",
    "print(myList)\n",
    "myList.append(0)\n",
    "print(myList)\n",
    "\n",
    "print('Test UserString:')\n",
    "class MyString(UserString):\n",
    "    \n",
    "    # append to the beginning of the string\n",
    "    def append(self, item):\n",
    "        self.data = item + self.data\n",
    "        return self.data\n",
    "    \n",
    "testStr = MyString('abc')\n",
    "print(testStr)\n",
    "testStr.append('z')\n",
    "print(testStr)"
   ]
  }
 ],
 "metadata": {
  "kernelspec": {
   "display_name": "pythonDSA",
   "language": "python",
   "name": "python3"
  },
  "language_info": {
   "codemirror_mode": {
    "name": "ipython",
    "version": 3
   },
   "file_extension": ".py",
   "mimetype": "text/x-python",
   "name": "python",
   "nbconvert_exporter": "python",
   "pygments_lexer": "ipython3",
   "version": "3.10.1"
  }
 },
 "nbformat": 4,
 "nbformat_minor": 2
}
